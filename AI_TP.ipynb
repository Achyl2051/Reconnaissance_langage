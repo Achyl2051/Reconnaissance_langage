{
 "cells": [
  {
   "cell_type": "code",
   "execution_count": 1,
   "id": "7f5e5048-9091-4a7e-8625-14671338a4e1",
   "metadata": {},
   "outputs": [],
   "source": [
    "import numpy as np\n",
    "import pandas as pd\n",
    "from sklearn.model_selection import train_test_split\n",
    "from sklearn.ensemble import RandomForestClassifier\n",
    "from sklearn.metrics import accuracy_score\n",
    "import joblib\n"
   ]
  },
  {
   "cell_type": "code",
   "execution_count": 2,
   "id": "e9f4644c-c49d-4778-b040-41153183211b",
   "metadata": {},
   "outputs": [],
   "source": [
    "def calcul_residuel(tab,mot):\n",
    "    result=[]\n",
    "    rep=0\n",
    "    for i in range(0,len(tab)):\n",
    "        if tab[i].startswith(mot):\n",
    "            if tab[i]==mot:\n",
    "                rep+=1\n",
    "                if rep>1:\n",
    "                    result.append('e')\n",
    "                continue\n",
    "            result.append(tab[i].removeprefix(mot))\n",
    "    return result\n",
    "\n",
    "def remplacerParEsp(tableau):\n",
    "    for i in range(len(tableau)):\n",
    "        for j in range(i+1, len(tableau)):\n",
    "            if tableau[i] == tableau[j]:\n",
    "                tableau[j] = \"e\"\n",
    "    return tableau\n",
    "\n",
    "def calcul_quotient(L,Ln):\n",
    "    result=[]\n",
    "    for ln in Ln:\n",
    "        result.extend(calcul_residuel(L,ln))\n",
    "    return remplacerParEsp(result)\n",
    "\n",
    "def test_code(L):\n",
    "    result=[]\n",
    "    L0=L\n",
    "    L1=calcul_quotient(L,L)\n",
    "    result.append(L0)\n",
    "    result.append(L1)\n",
    "    Ln=L1\n",
    "    index=2\n",
    "    while \"e\" not in Ln:\n",
    "        partieGauche=calcul_quotient(Ln,L)\n",
    "        partieDroite=calcul_quotient(L,Ln)\n",
    "        Ln=partieGauche+partieDroite\n",
    "        if Ln in result:\n",
    "            return 1\n",
    "        result.append(Ln)\n",
    "        index+=1\n",
    "    return 0"
   ]
  },
  {
   "cell_type": "code",
   "execution_count": 3,
   "id": "d82f5081-a906-4f55-b43a-10d4ea039a17",
   "metadata": {},
   "outputs": [],
   "source": [
    "import random\n",
    "def genererMotBinaire():\n",
    "    result=\"\"\n",
    "    for i in range(0,random.randint(1,7)):\n",
    "        result+=str(random.randint(0,1))\n",
    "    return result\n"
   ]
  },
  {
   "cell_type": "code",
   "execution_count": 4,
   "id": "9b1d00ae-bd09-46e2-9144-6b0f78c02cfe",
   "metadata": {},
   "outputs": [],
   "source": [
    "def genererLangage():\n",
    "    result=[]\n",
    "    for i in range(0,random.randint(1,10)):\n",
    "        result.append(genererMotBinaire())\n",
    "    return result"
   ]
  },
  {
   "cell_type": "code",
   "execution_count": 5,
   "id": "88414b34-0593-4823-bebe-c66d84275ee1",
   "metadata": {},
   "outputs": [],
   "source": [
    "def nombre_de_mot(tab):\n",
    "    return len(tab)\n",
    "\n",
    "def longueur_moyenne_mot(tab):\n",
    "    total = sum(len(word) for word in tab)\n",
    "    alavany = len(tab)\n",
    "    if alavany == 0:\n",
    "        return 0\n",
    "    else:\n",
    "        return total / alavany\n",
    "\n",
    "def manisa_0(tab):\n",
    "    return sum(word.count('0') for word in tab)\n",
    "\n",
    "def manisa_1(tab):\n",
    "    return sum(word.count('1') for word in tab)\n",
    "\n",
    "def longueur_max(tab):\n",
    "    if not tab:\n",
    "        return 0\n",
    "    return max(len(word) for word in tab)\n",
    "\n",
    "def longueur_min(tab):\n",
    "    if not tab:\n",
    "        return 0\n",
    "    return min(len(word) for word in tab)\n",
    "\n",
    "def apparition_0(tab):\n",
    "    total_caracteres = 0\n",
    "    total_zero = 0\n",
    "    for chaine in tab:\n",
    "        total_caracteres += len(chaine)\n",
    "        total_zero += chaine.count('0')\n",
    "    if total_caracteres == 0:\n",
    "        return 0\n",
    "    taux = total_zero / total_caracteres\n",
    "    return taux\n",
    "\n",
    "def apparition_1(tab):\n",
    "    total_caracteres = 0\n",
    "    total_zero = 0\n",
    "    for chaine in tab:\n",
    "        total_caracteres += len(chaine)\n",
    "        total_zero += chaine.count('1')\n",
    "    if total_caracteres == 0:\n",
    "        return 0\n",
    "    taux = total_zero / total_caracteres\n",
    "    return taux"
   ]
  },
  {
   "cell_type": "code",
   "execution_count": 6,
   "id": "dc8f557b-e823-453b-ab56-714bf1d30c23",
   "metadata": {},
   "outputs": [],
   "source": [
    "def generate_dataset():\n",
    "    arret=False\n",
    "    dataset = []\n",
    "    count=0\n",
    "    while arret is False:\n",
    "        row = []\n",
    "        tab=genererLangage()\n",
    "        row.append(nombre_de_mot(tab))\n",
    "        row.append(longueur_moyenne_mot(tab))\n",
    "        row.append(manisa_0(tab))\n",
    "        row.append(manisa_1(tab))\n",
    "        row.append(longueur_max(tab))\n",
    "        row.append(longueur_min(tab))\n",
    "        row.append(apparition_0(tab))\n",
    "        row.append(apparition_1(tab))\n",
    "        row.append(test_code(tab))\n",
    "        if(test_code(tab)==0):\n",
    "            dataset.append(row)\n",
    "            count+=1\n",
    "        if(count==2500):\n",
    "            arret=True\n",
    "    count=0\n",
    "    arret=False\n",
    "    while arret is False:\n",
    "        row = []\n",
    "        tab=genererLangage()\n",
    "        row.append(nombre_de_mot(tab))\n",
    "        row.append(longueur_moyenne_mot(tab))\n",
    "        row.append(manisa_0(tab))\n",
    "        row.append(manisa_1(tab))\n",
    "        row.append(longueur_max(tab))\n",
    "        row.append(longueur_min(tab))\n",
    "        row.append(apparition_0(tab))\n",
    "        row.append(apparition_1(tab))\n",
    "        row.append(test_code(tab))\n",
    "        if(test_code(tab)==1):\n",
    "            dataset.append(row)\n",
    "            count+=1\n",
    "        if(count==2500):\n",
    "            arret=True\n",
    "    return dataset\n"
   ]
  },
  {
   "cell_type": "code",
   "execution_count": 7,
   "id": "5c5e7836-2db3-4565-889b-9f718ca5b2b0",
   "metadata": {},
   "outputs": [],
   "source": [
    "entrainement=generate_dataset()"
   ]
  },
  {
   "cell_type": "code",
   "execution_count": 8,
   "id": "3d588575-0ee8-496e-81b8-a58fb18abb67",
   "metadata": {},
   "outputs": [],
   "source": [
    "df = pd.DataFrame(entrainement, columns=['nbr_mot', 'longueur_moyenne_mot', 'nbr_0', 'nbr_1', 'longueur_max', 'longueur_min','apparition_0','apparition_1', 'valiny'])\n",
    "\n",
    "X = df.drop('valiny', axis=1)\n",
    "y = df['valiny']\n",
    "\n",
    "X_train, X_test, y_train, y_test = train_test_split(X, y, test_size=0.2, random_state=42)"
   ]
  },
  {
   "cell_type": "code",
   "execution_count": 9,
   "id": "cbe1f2d6-89ce-487d-9e25-ece062d826bf",
   "metadata": {},
   "outputs": [
    {
     "name": "stdout",
     "output_type": "stream",
     "text": [
      "Accuracy: 0.895\n"
     ]
    }
   ],
   "source": [
    "# Créer le modèle\n",
    "model = RandomForestClassifier(n_estimators=100, random_state=42)\n",
    "\n",
    "# Entraîner le modèle\n",
    "model.fit(X_train, y_train)\n",
    "\n",
    "# Faire des prédictions sur l'ensemble de test\n",
    "y_pred = model.predict(X_test)\n",
    "\n",
    "# Évaluer le modèle\n",
    "accuracy = accuracy_score(y_test, y_pred)\n",
    "print(f'Accuracy: {accuracy}')\n"
   ]
  },
  {
   "cell_type": "code",
   "execution_count": 85,
   "id": "d123c1f8-73dd-4576-9547-650ddfdb0d18",
   "metadata": {},
   "outputs": [
    {
     "data": {
      "text/plain": [
       "['model.pkl']"
      ]
     },
     "execution_count": 85,
     "metadata": {},
     "output_type": "execute_result"
    }
   ],
   "source": [
    "# Stocker le modèle\n",
    "#joblib.dump(model, 'model.pkl')"
   ]
  },
  {
   "cell_type": "code",
   "execution_count": 10,
   "id": "41bf92ac-a64c-4789-8247-ee9cae4190e1",
   "metadata": {},
   "outputs": [
    {
     "name": "stdout",
     "output_type": "stream",
     "text": [
      "['1000', '10100', '111100', '101', '00']\n",
      "1\n"
     ]
    }
   ],
   "source": [
    "tab=genererLangage()\n",
    "row=[]\n",
    "row.append(nombre_de_mot(tab))\n",
    "row.append(longueur_moyenne_mot(tab))\n",
    "row.append(manisa_0(tab))\n",
    "row.append(manisa_1(tab))\n",
    "row.append(longueur_max(tab))\n",
    "row.append(longueur_min(tab))\n",
    "row.append(apparition_0(tab))\n",
    "row.append(apparition_1(tab))\n",
    "print(tab)\n",
    "print(test_code(tab))"
   ]
  },
  {
   "cell_type": "code",
   "execution_count": 11,
   "id": "415603e9-ef31-45ef-abb5-b81811837b31",
   "metadata": {},
   "outputs": [
    {
     "name": "stdout",
     "output_type": "stream",
     "text": [
      "Predicted class: 1\n"
     ]
    }
   ],
   "source": [
    "model = joblib.load('model.pkl')\n",
    "\n",
    "def predict(input_features):\n",
    "    input_df = pd.DataFrame([input_features], columns=['nbr_mot', 'longueur_moyenne_mot', 'nbr_0', 'nbr_1', 'longueur_max', 'longueur_min','apparition_0','apparition_1'])\n",
    "    prediction = model.predict(input_df)\n",
    "    return prediction[0]\n",
    "\n",
    "if __name__ == \"__main__\":\n",
    "    input_features = row \n",
    "    result = predict(input_features)\n",
    "    print(f'Predicted class: {result}')\n"
   ]
  },
  {
   "cell_type": "code",
   "execution_count": null,
   "id": "aec07f97-39d3-4ea9-b98b-398d1c6dfe26",
   "metadata": {},
   "outputs": [],
   "source": []
  },
  {
   "cell_type": "code",
   "execution_count": null,
   "id": "aaf124c3-8a35-4deb-b24e-589afef017fd",
   "metadata": {},
   "outputs": [],
   "source": []
  }
 ],
 "metadata": {
  "kernelspec": {
   "display_name": "Python 3 (ipykernel)",
   "language": "python",
   "name": "python3"
  },
  "language_info": {
   "codemirror_mode": {
    "name": "ipython",
    "version": 3
   },
   "file_extension": ".py",
   "mimetype": "text/x-python",
   "name": "python",
   "nbconvert_exporter": "python",
   "pygments_lexer": "ipython3",
   "version": "3.12.2"
  }
 },
 "nbformat": 4,
 "nbformat_minor": 5
}
